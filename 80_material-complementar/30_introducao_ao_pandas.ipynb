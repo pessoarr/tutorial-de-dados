{
 "cells": [
  {
   "cell_type": "markdown",
   "id": "cf22f2f9-bcb9-4cca-828f-62c3086229c7",
   "metadata": {},
   "source": [
    "# Tutorial de Pandas\n",
    "\n",
    "Pandas é a biblioteca do Python mais utilizada para trabalhar com conjuntos de dados de diferentes fontes de dados. \\\n",
    "Neste tutorial aprenderemos a como utiliza-la para extrair, transformar e carregar diversos tipos de dados.\n",
    "\n",
    "Seu [código](https://github.com/pandas-dev/pandas) é aberto está hospedado no GitHub.  \\\n",
    "Sua [documentação](https://pandas.pydata.org/docs/), apesar de estar disponível somente em inglês, é bem completa e oferece tutoriais e exemplos.  \\"
   ]
  },
  {
   "cell_type": "markdown",
   "id": "4c848151-4a17-4ca5-91aa-d22925de5b2a",
   "metadata": {},
   "source": [
    "## Instalação\n",
    "Para instalar a biblioteca basta usarmos o `pip`"
   ]
  },
  {
   "cell_type": "code",
   "execution_count": 3,
   "id": "adde7ea6-7af2-4843-b80f-6d2b3bf620d7",
   "metadata": {},
   "outputs": [
    {
     "name": "stdout",
     "output_type": "stream",
     "text": [
      "Collecting pandas\n",
      "  Downloading pandas-2.0.3-cp38-cp38-manylinux_2_17_x86_64.manylinux2014_x86_64.whl (12.4 MB)\n",
      "\u001b[K     |████████████████████████████████| 12.4 MB 464 kB/s eta 0:00:01     |████████████████████████████▊   | 11.1 MB 4.8 MB/s eta 0:00:01     |██████████████████████████████▍ | 11.7 MB 4.8 MB/s eta 0:00:01\n",
      "\u001b[?25hCollecting numpy>=1.20.3; python_version < \"3.10\"\n",
      "  Downloading numpy-1.24.4-cp38-cp38-manylinux_2_17_x86_64.manylinux2014_x86_64.whl (17.3 MB)\n",
      "\u001b[K     |████████████████████████████████| 17.3 MB 12.9 MB/s eta 0:00:01\n",
      "\u001b[?25hCollecting tzdata>=2022.1\n",
      "  Downloading tzdata-2023.3-py2.py3-none-any.whl (341 kB)\n",
      "\u001b[K     |████████████████████████████████| 341 kB 13.6 MB/s eta 0:00:01\n",
      "\u001b[?25hRequirement already satisfied: pytz>=2020.1 in /home/danilo/.local/lib/python3.8/site-packages (from pandas) (2023.3)\n",
      "Requirement already satisfied: python-dateutil>=2.8.2 in /home/danilo/.local/lib/python3.8/site-packages (from pandas) (2.8.2)\n",
      "Requirement already satisfied: six>=1.5 in /usr/lib/python3/dist-packages (from python-dateutil>=2.8.2->pandas) (1.14.0)\n",
      "Installing collected packages: numpy, tzdata, pandas\n",
      "Successfully installed numpy-1.24.4 pandas-2.0.3 tzdata-2023.3\n",
      "Note: you may need to restart the kernel to use updated packages.\n"
     ]
    }
   ],
   "source": [
    "%pip install pandas"
   ]
  },
  {
   "cell_type": "markdown",
   "id": "ef78be66-3298-4581-b859-1ab9dd760aa5",
   "metadata": {},
   "source": [
    "## Uso\n",
    "\n",
    "Para começar a usar a biblioteca basta importar em seu arquivo python ou notebook usando a palavra chave `import`. "
   ]
  },
  {
   "cell_type": "code",
   "execution_count": 5,
   "id": "b25d7bb2-d870-4030-92ac-f4078c743f88",
   "metadata": {},
   "outputs": [
    {
     "data": {
      "text/plain": [
       "'2.0.3'"
      ]
     },
     "execution_count": 5,
     "metadata": {},
     "output_type": "execute_result"
    }
   ],
   "source": [
    "import pandas\n",
    "pandas.__version__"
   ]
  },
  {
   "cell_type": "markdown",
   "id": "97f16617-1f94-4408-b271-dd3b3ce32beb",
   "metadata": {},
   "source": [
    "Seguindo o padrão definido pelos desenvolvedores da biblioteca, utilizaremos as letras `pd` como pseudônimo para simplificar o nosso código. Assim, toda vez que precisarmos utiliza-la não precisaremos escrever o nome dela completo, somente `pd` ao invés de `pandas`."
   ]
  },
  {
   "cell_type": "code",
   "execution_count": 6,
   "id": "d6cc131b-7a33-473e-9caa-2bd15076edfc",
   "metadata": {},
   "outputs": [
    {
     "data": {
      "text/plain": [
       "'2.0.3'"
      ]
     },
     "execution_count": 6,
     "metadata": {},
     "output_type": "execute_result"
    }
   ],
   "source": [
    "import pandas as pd\n",
    "pd.__version__"
   ]
  },
  {
   "cell_type": "markdown",
   "id": "f56f316f-2427-4dac-9f2d-0781212c6d3a",
   "metadata": {},
   "source": [
    "## Introdução\n",
    "\n",
    "O Pandas possui duas principais estruturas de dados: a coluna (Series) e a tabela (DataFrame)"
   ]
  },
  {
   "cell_type": "markdown",
   "id": "74b1440a-e4a5-4894-95f3-8945719326ef",
   "metadata": {},
   "source": [
    "### Series\n",
    "Ao trabalhar com o pandas todas as colunas do seu conjunto de dados serão do tipo Series."
   ]
  },
  {
   "cell_type": "code",
   "execution_count": 28,
   "id": "e50f2466-bd07-4e85-83de-9d56676a75c6",
   "metadata": {},
   "outputs": [
    {
     "data": {
      "text/plain": [
       "0    1\n",
       "1    2\n",
       "2    3\n",
       "3    4\n",
       "dtype: int64"
      ]
     },
     "execution_count": 28,
     "metadata": {},
     "output_type": "execute_result"
    }
   ],
   "source": [
    "pd.Series([1, 2, 3, 4])"
   ]
  },
  {
   "cell_type": "markdown",
   "id": "a27cec72-8945-4173-bf2d-27a050398ec3",
   "metadata": {},
   "source": [
    "As series podem ser geradas através de tuplas, listas e dicionários do Python."
   ]
  },
  {
   "cell_type": "code",
   "execution_count": 33,
   "id": "23b98330-0f3e-4450-b796-d2e29122513b",
   "metadata": {},
   "outputs": [],
   "source": [
    "tuple_serie = pd.Series(('a', 'b', 'c', 'd'))\n",
    "list_serie = pd.Series([1, 2, 3, 4])\n",
    "dict_serie = pd.Series({'dezenas': [10, 20, 30, 40]})"
   ]
  },
  {
   "cell_type": "markdown",
   "id": "11ebab65-f811-47aa-ad5b-b0726eed7f98",
   "metadata": {},
   "source": [
    "Por padrão ao criar uma Serie o Pandas cria os índices dessa coluna e tenta descobrir qual o tipo dos dados que essa coluna armazena."
   ]
  },
  {
   "cell_type": "code",
   "execution_count": null,
   "id": "a6084fac-1ace-4b5d-807f-7693e5455ad8",
   "metadata": {},
   "outputs": [],
   "source": []
  }
 ],
 "metadata": {
  "kernelspec": {
   "display_name": "Python 3 (ipykernel)",
   "language": "python",
   "name": "python3"
  },
  "language_info": {
   "codemirror_mode": {
    "name": "ipython",
    "version": 3
   },
   "file_extension": ".py",
   "mimetype": "text/x-python",
   "name": "python",
   "nbconvert_exporter": "python",
   "pygments_lexer": "ipython3",
   "version": "3.8.10"
  }
 },
 "nbformat": 4,
 "nbformat_minor": 5
}
