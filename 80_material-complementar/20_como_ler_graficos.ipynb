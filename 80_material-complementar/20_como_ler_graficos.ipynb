{
 "cells": [
  {
   "cell_type": "markdown",
   "id": "be0f858e-3484-48e6-933b-8eb5ed22212f",
   "metadata": {},
   "source": [
    "# Como ler gráficos"
   ]
  },
  {
   "cell_type": "markdown",
   "id": "ab010857-6e23-4cf0-ae79-266eee5cf725",
   "metadata": {},
   "source": [
    "_Em construção_"
   ]
  },
  {
   "cell_type": "code",
   "execution_count": null,
   "id": "6bbda7e9-2c6e-4486-873d-cd10271ddcd5",
   "metadata": {},
   "outputs": [],
   "source": []
  }
 ],
 "metadata": {
  "kernelspec": {
   "display_name": "Python 3 (ipykernel)",
   "language": "python",
   "name": "python3"
  },
  "language_info": {
   "codemirror_mode": {
    "name": "ipython",
    "version": 3
   },
   "file_extension": ".py",
   "mimetype": "text/x-python",
   "name": "python",
   "nbconvert_exporter": "python",
   "pygments_lexer": "ipython3",
   "version": "3.8.10"
  }
 },
 "nbformat": 4,
 "nbformat_minor": 5
}
