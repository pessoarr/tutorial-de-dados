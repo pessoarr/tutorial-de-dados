{
 "cells": [
  {
   "cell_type": "markdown",
   "id": "cd135163-3a76-482c-9cc6-6660bfa85add",
   "metadata": {},
   "source": [
    "# Comparação das idades médias de óbito nos distritos do município de São Paulo"
   ]
  },
  {
   "cell_type": "code",
   "execution_count": 1,
   "id": "3e238b27-d28e-48b2-a7ce-91f8fbdd0e21",
   "metadata": {
    "tags": []
   },
   "outputs": [],
   "source": [
    "import pandas as pd\n",
    "import matplotlib.pyplot as pl"
   ]
  },
  {
   "cell_type": "markdown",
   "id": "2ea3fdfa-8624-497b-a377-ba2836dc1fd2",
   "metadata": {},
   "source": [
    "## 1. Carregando os dados"
   ]
  },
  {
   "cell_type": "markdown",
   "id": "70cc266f-e552-43a0-a8d1-5680d87b2cc2",
   "metadata": {},
   "source": [
    "Vamos carregar os dados já limpos e organizados. Para ver como eles foram obtidos a partir dos dados brutos (e para aprender um pouco sobre limpeza de dados), veja o notebook:\n",
    "[20_limpeza-tratamento-dados_mortalidade.ipynb](20_limpeza-tratamento-dados_mortalidade.ipynb).\n",
    "\n",
    "Como o nome do arquivo mostra, ele contém o número de óbitos de residentes ocorridos entre 2010 e 2019 em cada \n",
    "[distrito do município de São Paulo](https://upload.wikimedia.org/wikipedia/commons/5/56/Mapa_sp.svg)."
   ]
  },
  {
   "cell_type": "code",
   "execution_count": 12,
   "id": "1f0a8c50-869d-4ee2-9288-4d5bd4dc059f",
   "metadata": {},
   "outputs": [],
   "source": [
    "# Carregando os dados:\n",
    "obitos_por_distrito_df = pd.read_csv('obitos-resid_por_idade_distrito-resid_2010-2019_limpo.csv')"
   ]
  },
  {
   "cell_type": "markdown",
   "id": "a49c479b-d6f9-43a1-9ec0-ccb21aeae2e7",
   "metadata": {},
   "source": [
    "Vamos ver como são os dados carregados:"
   ]
  },
  {
   "cell_type": "code",
   "execution_count": 13,
   "id": "242d1ba7-d372-4008-9c28-9eeddadaeb8e",
   "metadata": {},
   "outputs": [
    {
     "data": {
      "text/html": [
       "<div>\n",
       "<style scoped>\n",
       "    .dataframe tbody tr th:only-of-type {\n",
       "        vertical-align: middle;\n",
       "    }\n",
       "\n",
       "    .dataframe tbody tr th {\n",
       "        vertical-align: top;\n",
       "    }\n",
       "\n",
       "    .dataframe thead th {\n",
       "        text-align: right;\n",
       "    }\n",
       "</style>\n",
       "<table border=\"1\" class=\"dataframe\">\n",
       "  <thead>\n",
       "    <tr style=\"text-align: right;\">\n",
       "      <th></th>\n",
       "      <th>Idade Detalhada</th>\n",
       "      <th>Água Rasa</th>\n",
       "      <th>Alto de Pinheiros</th>\n",
       "      <th>Anhanguera</th>\n",
       "      <th>Aricanduva</th>\n",
       "      <th>Artur Alvim</th>\n",
       "      <th>Barra Funda</th>\n",
       "      <th>Bela Vista</th>\n",
       "      <th>Belém</th>\n",
       "      <th>Bom Retiro</th>\n",
       "      <th>...</th>\n",
       "      <th>Vila Formosa</th>\n",
       "      <th>Vila Guilherme</th>\n",
       "      <th>Vila Jacuí</th>\n",
       "      <th>Vila Leopoldina</th>\n",
       "      <th>Vila Maria</th>\n",
       "      <th>Vila Mariana</th>\n",
       "      <th>Vila Matilde</th>\n",
       "      <th>Vila Medeiros</th>\n",
       "      <th>Vila Prudente</th>\n",
       "      <th>Vila Sônia</th>\n",
       "    </tr>\n",
       "  </thead>\n",
       "  <tbody>\n",
       "    <tr>\n",
       "      <th>0</th>\n",
       "      <td>0</td>\n",
       "      <td>75</td>\n",
       "      <td>22</td>\n",
       "      <td>128</td>\n",
       "      <td>106</td>\n",
       "      <td>163</td>\n",
       "      <td>31</td>\n",
       "      <td>68</td>\n",
       "      <td>98</td>\n",
       "      <td>65</td>\n",
       "      <td>...</td>\n",
       "      <td>118</td>\n",
       "      <td>76</td>\n",
       "      <td>287</td>\n",
       "      <td>35</td>\n",
       "      <td>258</td>\n",
       "      <td>76</td>\n",
       "      <td>126</td>\n",
       "      <td>224</td>\n",
       "      <td>121</td>\n",
       "      <td>150</td>\n",
       "    </tr>\n",
       "    <tr>\n",
       "      <th>1</th>\n",
       "      <td>1</td>\n",
       "      <td>11</td>\n",
       "      <td>2</td>\n",
       "      <td>8</td>\n",
       "      <td>3</td>\n",
       "      <td>10</td>\n",
       "      <td>1</td>\n",
       "      <td>5</td>\n",
       "      <td>12</td>\n",
       "      <td>6</td>\n",
       "      <td>...</td>\n",
       "      <td>5</td>\n",
       "      <td>6</td>\n",
       "      <td>18</td>\n",
       "      <td>4</td>\n",
       "      <td>12</td>\n",
       "      <td>12</td>\n",
       "      <td>11</td>\n",
       "      <td>22</td>\n",
       "      <td>11</td>\n",
       "      <td>5</td>\n",
       "    </tr>\n",
       "    <tr>\n",
       "      <th>2</th>\n",
       "      <td>2</td>\n",
       "      <td>3</td>\n",
       "      <td>1</td>\n",
       "      <td>2</td>\n",
       "      <td>2</td>\n",
       "      <td>3</td>\n",
       "      <td>2</td>\n",
       "      <td>0</td>\n",
       "      <td>6</td>\n",
       "      <td>3</td>\n",
       "      <td>...</td>\n",
       "      <td>5</td>\n",
       "      <td>3</td>\n",
       "      <td>17</td>\n",
       "      <td>0</td>\n",
       "      <td>6</td>\n",
       "      <td>8</td>\n",
       "      <td>4</td>\n",
       "      <td>7</td>\n",
       "      <td>4</td>\n",
       "      <td>4</td>\n",
       "    </tr>\n",
       "    <tr>\n",
       "      <th>3</th>\n",
       "      <td>3</td>\n",
       "      <td>6</td>\n",
       "      <td>0</td>\n",
       "      <td>5</td>\n",
       "      <td>3</td>\n",
       "      <td>3</td>\n",
       "      <td>0</td>\n",
       "      <td>2</td>\n",
       "      <td>0</td>\n",
       "      <td>3</td>\n",
       "      <td>...</td>\n",
       "      <td>2</td>\n",
       "      <td>3</td>\n",
       "      <td>8</td>\n",
       "      <td>2</td>\n",
       "      <td>2</td>\n",
       "      <td>5</td>\n",
       "      <td>2</td>\n",
       "      <td>6</td>\n",
       "      <td>3</td>\n",
       "      <td>2</td>\n",
       "    </tr>\n",
       "    <tr>\n",
       "      <th>4</th>\n",
       "      <td>4</td>\n",
       "      <td>0</td>\n",
       "      <td>0</td>\n",
       "      <td>4</td>\n",
       "      <td>0</td>\n",
       "      <td>2</td>\n",
       "      <td>0</td>\n",
       "      <td>4</td>\n",
       "      <td>3</td>\n",
       "      <td>2</td>\n",
       "      <td>...</td>\n",
       "      <td>2</td>\n",
       "      <td>0</td>\n",
       "      <td>4</td>\n",
       "      <td>1</td>\n",
       "      <td>4</td>\n",
       "      <td>7</td>\n",
       "      <td>2</td>\n",
       "      <td>1</td>\n",
       "      <td>2</td>\n",
       "      <td>2</td>\n",
       "    </tr>\n",
       "    <tr>\n",
       "      <th>...</th>\n",
       "      <td>...</td>\n",
       "      <td>...</td>\n",
       "      <td>...</td>\n",
       "      <td>...</td>\n",
       "      <td>...</td>\n",
       "      <td>...</td>\n",
       "      <td>...</td>\n",
       "      <td>...</td>\n",
       "      <td>...</td>\n",
       "      <td>...</td>\n",
       "      <td>...</td>\n",
       "      <td>...</td>\n",
       "      <td>...</td>\n",
       "      <td>...</td>\n",
       "      <td>...</td>\n",
       "      <td>...</td>\n",
       "      <td>...</td>\n",
       "      <td>...</td>\n",
       "      <td>...</td>\n",
       "      <td>...</td>\n",
       "      <td>...</td>\n",
       "    </tr>\n",
       "    <tr>\n",
       "      <th>113</th>\n",
       "      <td>113</td>\n",
       "      <td>0</td>\n",
       "      <td>0</td>\n",
       "      <td>0</td>\n",
       "      <td>0</td>\n",
       "      <td>0</td>\n",
       "      <td>0</td>\n",
       "      <td>0</td>\n",
       "      <td>0</td>\n",
       "      <td>0</td>\n",
       "      <td>...</td>\n",
       "      <td>0</td>\n",
       "      <td>0</td>\n",
       "      <td>0</td>\n",
       "      <td>0</td>\n",
       "      <td>0</td>\n",
       "      <td>0</td>\n",
       "      <td>0</td>\n",
       "      <td>0</td>\n",
       "      <td>0</td>\n",
       "      <td>0</td>\n",
       "    </tr>\n",
       "    <tr>\n",
       "      <th>114</th>\n",
       "      <td>114</td>\n",
       "      <td>0</td>\n",
       "      <td>0</td>\n",
       "      <td>0</td>\n",
       "      <td>0</td>\n",
       "      <td>0</td>\n",
       "      <td>0</td>\n",
       "      <td>0</td>\n",
       "      <td>0</td>\n",
       "      <td>0</td>\n",
       "      <td>...</td>\n",
       "      <td>0</td>\n",
       "      <td>0</td>\n",
       "      <td>0</td>\n",
       "      <td>0</td>\n",
       "      <td>0</td>\n",
       "      <td>0</td>\n",
       "      <td>0</td>\n",
       "      <td>0</td>\n",
       "      <td>0</td>\n",
       "      <td>0</td>\n",
       "    </tr>\n",
       "    <tr>\n",
       "      <th>115</th>\n",
       "      <td>115</td>\n",
       "      <td>0</td>\n",
       "      <td>0</td>\n",
       "      <td>0</td>\n",
       "      <td>0</td>\n",
       "      <td>0</td>\n",
       "      <td>0</td>\n",
       "      <td>0</td>\n",
       "      <td>0</td>\n",
       "      <td>0</td>\n",
       "      <td>...</td>\n",
       "      <td>0</td>\n",
       "      <td>0</td>\n",
       "      <td>0</td>\n",
       "      <td>0</td>\n",
       "      <td>0</td>\n",
       "      <td>0</td>\n",
       "      <td>0</td>\n",
       "      <td>0</td>\n",
       "      <td>0</td>\n",
       "      <td>0</td>\n",
       "    </tr>\n",
       "    <tr>\n",
       "      <th>116</th>\n",
       "      <td>116</td>\n",
       "      <td>0</td>\n",
       "      <td>0</td>\n",
       "      <td>0</td>\n",
       "      <td>0</td>\n",
       "      <td>0</td>\n",
       "      <td>0</td>\n",
       "      <td>0</td>\n",
       "      <td>0</td>\n",
       "      <td>0</td>\n",
       "      <td>...</td>\n",
       "      <td>0</td>\n",
       "      <td>0</td>\n",
       "      <td>0</td>\n",
       "      <td>0</td>\n",
       "      <td>0</td>\n",
       "      <td>0</td>\n",
       "      <td>0</td>\n",
       "      <td>0</td>\n",
       "      <td>0</td>\n",
       "      <td>0</td>\n",
       "    </tr>\n",
       "    <tr>\n",
       "      <th>117</th>\n",
       "      <td>127</td>\n",
       "      <td>0</td>\n",
       "      <td>0</td>\n",
       "      <td>0</td>\n",
       "      <td>0</td>\n",
       "      <td>0</td>\n",
       "      <td>0</td>\n",
       "      <td>0</td>\n",
       "      <td>0</td>\n",
       "      <td>0</td>\n",
       "      <td>...</td>\n",
       "      <td>0</td>\n",
       "      <td>0</td>\n",
       "      <td>0</td>\n",
       "      <td>0</td>\n",
       "      <td>0</td>\n",
       "      <td>0</td>\n",
       "      <td>0</td>\n",
       "      <td>0</td>\n",
       "      <td>0</td>\n",
       "      <td>0</td>\n",
       "    </tr>\n",
       "  </tbody>\n",
       "</table>\n",
       "<p>118 rows × 97 columns</p>\n",
       "</div>"
      ],
      "text/plain": [
       "     Idade Detalhada  Água Rasa  Alto de Pinheiros  Anhanguera  Aricanduva  \\\n",
       "0                  0         75                 22         128         106   \n",
       "1                  1         11                  2           8           3   \n",
       "2                  2          3                  1           2           2   \n",
       "3                  3          6                  0           5           3   \n",
       "4                  4          0                  0           4           0   \n",
       "..               ...        ...                ...         ...         ...   \n",
       "113              113          0                  0           0           0   \n",
       "114              114          0                  0           0           0   \n",
       "115              115          0                  0           0           0   \n",
       "116              116          0                  0           0           0   \n",
       "117              127          0                  0           0           0   \n",
       "\n",
       "     Artur Alvim  Barra Funda  Bela Vista  Belém  Bom Retiro  ...  \\\n",
       "0            163           31          68     98          65  ...   \n",
       "1             10            1           5     12           6  ...   \n",
       "2              3            2           0      6           3  ...   \n",
       "3              3            0           2      0           3  ...   \n",
       "4              2            0           4      3           2  ...   \n",
       "..           ...          ...         ...    ...         ...  ...   \n",
       "113            0            0           0      0           0  ...   \n",
       "114            0            0           0      0           0  ...   \n",
       "115            0            0           0      0           0  ...   \n",
       "116            0            0           0      0           0  ...   \n",
       "117            0            0           0      0           0  ...   \n",
       "\n",
       "     Vila Formosa  Vila Guilherme  Vila Jacuí  Vila Leopoldina  Vila Maria  \\\n",
       "0             118              76         287               35         258   \n",
       "1               5               6          18                4          12   \n",
       "2               5               3          17                0           6   \n",
       "3               2               3           8                2           2   \n",
       "4               2               0           4                1           4   \n",
       "..            ...             ...         ...              ...         ...   \n",
       "113             0               0           0                0           0   \n",
       "114             0               0           0                0           0   \n",
       "115             0               0           0                0           0   \n",
       "116             0               0           0                0           0   \n",
       "117             0               0           0                0           0   \n",
       "\n",
       "     Vila Mariana  Vila Matilde  Vila Medeiros  Vila Prudente  Vila Sônia  \n",
       "0              76           126            224            121         150  \n",
       "1              12            11             22             11           5  \n",
       "2               8             4              7              4           4  \n",
       "3               5             2              6              3           2  \n",
       "4               7             2              1              2           2  \n",
       "..            ...           ...            ...            ...         ...  \n",
       "113             0             0              0              0           0  \n",
       "114             0             0              0              0           0  \n",
       "115             0             0              0              0           0  \n",
       "116             0             0              0              0           0  \n",
       "117             0             0              0              0           0  \n",
       "\n",
       "[118 rows x 97 columns]"
      ]
     },
     "execution_count": 13,
     "metadata": {},
     "output_type": "execute_result"
    }
   ],
   "source": [
    "# Vendo a cara dos dados:\n",
    "obitos_por_distrito_df"
   ]
  },
  {
   "cell_type": "markdown",
   "id": "1490608f-10a1-478b-b643-8e03718ab0b5",
   "metadata": {},
   "source": [
    "Vemos que:\n",
    "* a primeira coluna contém a idade (em anos completos) da pessoa no momento de seu falecimento;\n",
    "* as demais colunas contém o número de óbitos em um determinado distrito, por idade.\n",
    "\n",
    "Por exemplo:\n",
    "* Entre 2010 e 2019, no distrito de Água Rasa, tivemos 75 óbitos de pessoas com menos de 1 ano completo.\n",
    "* Nesse mesmo período, na Vila Maria, tivemos 4 óbitos de pessoas com 4 anos de idade.\n",
    "* No distrito de Artur Alvim, não tivemos nenhum óbito de pessoas com 113 anos ou mais."
   ]
  },
  {
   "cell_type": "markdown",
   "id": "95ae2621-23e6-420d-b64a-b8fcb44d222f",
   "metadata": {
    "tags": []
   },
   "source": [
    "## 2. Analisando os dados"
   ]
  },
  {
   "cell_type": "markdown",
   "id": "d87d9777-6941-451e-97bc-298333afdf6d",
   "metadata": {},
   "source": [
    "<a id='distribuicao'></a>\n",
    "### 2.1. Distribuição de óbitos por idade"
   ]
  },
  {
   "cell_type": "markdown",
   "id": "9ba98d24-f63c-4453-a842-2e03b383fdd9",
   "metadata": {},
   "source": [
    "Um conceito muito utilizado em análise de dados é o de _distribuição_. A distribuição nos informa como a ocorrência de algo (no nosso caso, os óbitos) \n",
    "está distribuída de acordo com uma certa característica ou variável (no nosso caso, a idade). Por exemplo: quantos óbtidos temos no distrito de Cidade Tiradentes, em cada idade? \n",
    "Em outras palavras: qual a distribuição dos óbitos por idade, nesse distrito?\n",
    "Analisar a distribuição pode nos trazer informações importantes.\n",
    "\n",
    "A nossa tabela de dados já nos dá exatamente isso. Abaixo, vamos mostrar essa distribuição em um gráfico e comparar quatro distritos: Cidade Tiradentes, Anhanguera (dois distritos periféricos), Vila Mariana e Alto de Pinheiros (local onde mora o ex-presidente e golpista [Michel Temer](https://pt.wikipedia.org/wiki/Michel_Temer))."
   ]
  },
  {
   "cell_type": "code",
   "execution_count": 14,
   "id": "1218a695-51e5-465f-9018-fb18c203945c",
   "metadata": {},
   "outputs": [
    {
     "data": {
      "image/png": "[encoded data removed]",
      "text/plain": [
       "<Figure size 640x480 with 1 Axes>"
      ]
     },
     "metadata": {},
     "output_type": "display_data"
    }
   ],
   "source": [
    "# Comparando a distribuição dos óbitos por idade, para diferentes distritos:\n",
    "distritos_selecionados = ['Cidade Tiradentes', 'Anhanguera', 'Vila Mariana', 'Alto de Pinheiros']\n",
    "for distrito in distritos_selecionados:\n",
    "    obitos_por_distrito_df.set_index('Idade Detalhada')[distrito].plot(label=distrito, alpha=0.7)\n",
    "pl.ylabel('Número de óbitos no distrito (2010-2019)')\n",
    "pl.legend()\n",
    "pl.show()"
   ]
  },
  {
   "cell_type": "markdown",
   "id": "1a761e1c-dc9b-457d-a010-4d6037d3fe72",
   "metadata": {},
   "source": [
    "Caso você não saiba como entender o gráfico acima, veja o notebook: \n",
    "[../80_material-complementar/20_como_ler_graficos.ipynb](../80_material-complementar/20_como_ler_graficos.ipynb).\n",
    "\n",
    "O gráfico acima mostra que, na Cidade Tiradentes:\n",
    "* a _mortalidade infantil_ (óbitos de bebês com menos de 1 ano completo) é alta, chegando a quase 600 óbitos no período 2010-2019;\n",
    "* para crianças mais velhas, o número de óbitos cai bastante, se aproximando de zero;\n",
    "* existe um aumento brusco no número de óbitos a partir dos 15 anos, chegando a 60 para pessoas com 17 anos (uma análise das causas de morte mostra que esse aumento é causado pela violência, que atinge principalmente jovens periféricos do sexo masculino);\n",
    "* o número de óbitos cresce até, mais ou menos, os 60 anos, quando começa a diminuir novamente;\n",
    "* aos 100 anos, o número de óbitos já quase zero novamente.\n",
    "\n",
    "Cada distrito selecionado parece ter uma distribuição diferente dos demais. Será mesmo? Como comparar com outros distritos que podem ser muito maiores ou muito menores? Veremos isso na seção seguinte."
   ]
  },
  {
   "cell_type": "markdown",
   "id": "238ba4a3-2cf4-4d46-a20e-537efc080606",
   "metadata": {},
   "source": [
    "<a id=\"total-obitos\"></a>\n",
    "### 2.2. Total de óbitos por distrito"
   ]
  },
  {
   "cell_type": "markdown",
   "id": "1177160e-1fb0-485a-b5e8-dbffdb699db5",
   "metadata": {},
   "source": [
    "Uma coisa que dificulta a comparação da distribuição dos óbitos entre os distritos é que cada distrito tem um tamanho (em número de residentes) diferente. Como ninguém vive para sempre, um distrito com mais residentes também vai ter um número total de óbitos maior. Mas isso não significa que esse seja um distrito mais \"mortífero\". Vejamos o total de óbitos nos distritos selecionados:"
   ]
  },
  {
   "cell_type": "code",
   "execution_count": 15,
   "id": "db2ed971-0c21-4d8f-910c-6da5f825285b",
   "metadata": {},
   "outputs": [
    {
     "data": {
      "text/plain": [
       "Anhanguera            2355\n",
       "Alto de Pinheiros     3174\n",
       "Cidade Tiradentes    10248\n",
       "Vila Mariana         10737\n",
       "dtype: int64"
      ]
     },
     "execution_count": 15,
     "metadata": {},
     "output_type": "execute_result"
    }
   ],
   "source": [
    "# Número total de óbitos por distrito:\n",
    "obitos_por_distrito_df[distritos_selecionados].sum().sort_values()"
   ]
  },
  {
   "cell_type": "markdown",
   "id": "6c4d65d8-82ed-43f8-8621-56e7afa104bd",
   "metadata": {},
   "source": [
    "No código acima, primeiro selecionamos apenas as colunas dos distritos listados em `distritos_selecionados` e depois aplicamos o método `.sum()`. \n",
    "Esse método soma os números para cada coluna da tabela e retorna esses resultados como uma série. Em seguida, aplicamos o método `.sort_values()` para ordenar essa série (em ordem crescente) pelos valores. Caso quiséssemos ordenar em ordem decrescente, poderíamos utilizar `.sort_values(ascending=False)`."
   ]
  },
  {
   "cell_type": "markdown",
   "id": "ea7a6047-0a88-44e9-adf8-baed4ad474f0",
   "metadata": {},
   "source": [
    "Vemos que o número total de óbitos da Cidade Tiradentes é próximo do da Vila Mariana. \n",
    "Já o de [Alto de Pinheiros](https://www.youtube.com/watch?v=DmZIM9gec-4) é bem menor porque ele é um distrito pequeno, com muitas casas grandes e poucos prédios (diferentemente da Vila Mariana)."
   ]
  },
  {
   "cell_type": "markdown",
   "id": "af01b8c3-43dd-43ee-816c-415e94d7ea79",
   "metadata": {},
   "source": [
    "### 2.3. Como comparar distritos de tamanhos diferentes: normalização"
   ]
  },
  {
   "cell_type": "markdown",
   "id": "2b184c64-9c3d-4289-8ee5-7e6db48d1f61",
   "metadata": {},
   "source": [
    "Por causa dessas diferenças de tamanho dos distritos, faz mais sentido comparar a _fração_ dos óbitos que ocorrem em cada idade, ou o número de óbitos que ocorrem em cada idade para um mesmo número total de óbitos. Para calcular a fração de óbitos por idade, basta dividir o número de óbitos em cada idade pelo número total de óbitos. Vamos construir uma função que faz isso:"
   ]
  },
  {
   "cell_type": "code",
   "execution_count": 16,
   "id": "36ce1823-641a-4c7d-8bdf-26f4b3579339",
   "metadata": {},
   "outputs": [],
   "source": [
    "def calcula_fracao(serie):\n",
    "    \"\"\"\n",
    "    Retorna a `serie` normalizada (isto é, dividida pelo seu total).\n",
    "    \"\"\"\n",
    "    \n",
    "    total  = serie.sum()\n",
    "    fracao = serie / total\n",
    "    \n",
    "    return fracao"
   ]
  },
  {
   "cell_type": "code",
   "execution_count": 17,
   "id": "b99c3a97-59ba-4840-898f-c972413a2148",
   "metadata": {},
   "outputs": [
    {
     "data": {
      "text/plain": [
       "0      0.055913\n",
       "1      0.002635\n",
       "2      0.001854\n",
       "3      0.001269\n",
       "4      0.000585\n",
       "         ...   \n",
       "113    0.000000\n",
       "114    0.000000\n",
       "115    0.000000\n",
       "116    0.000000\n",
       "117    0.000000\n",
       "Name: Cidade Tiradentes, Length: 118, dtype: float64"
      ]
     },
     "execution_count": 17,
     "metadata": {},
     "output_type": "execute_result"
    }
   ],
   "source": [
    "# Calcula a fração de óbitos para um distrito:\n",
    "calcula_fracao(obitos_por_distrito_df['Cidade Tiradentes'])"
   ]
  },
  {
   "cell_type": "markdown",
   "id": "ce90a80c-8bd2-4a6b-914b-43be6b9c2028",
   "metadata": {},
   "source": [
    "Se quisermos, podemos calcular quantos óbitos temos numa dada idade a cada 10.000 óbitos totais. É como se estivéssemos nos perguntando: \"se os distritos tivessem o mesmo número de residentes (e, portanto, de óbitos), quantos óbitos teríamos em cada idade? Ou então: \"se selecionarmos 10.000 óbitos de cada distrito, como esperamos que eles estejam distribuídos por idade\"? Vamos criar uma função que faz esse cálculo:"
   ]
  },
  {
   "cell_type": "code",
   "execution_count": 18,
   "id": "9d225070-ba83-4b42-a7ff-e7d7e5736edc",
   "metadata": {},
   "outputs": [],
   "source": [
    "def num_a_cada_X(serie, X):\n",
    "    \"\"\"\n",
    "    Calcula quantas ocorrências temos em cada item da `serie` \n",
    "    a cada `X` ocorrências totais.\n",
    "    \n",
    "    Por exemplo: o número de óbitos por idade para cada \n",
    "    1000 óbitos totais.\n",
    "    \"\"\"\n",
    "    \n",
    "    fracao = calcula_fracao(serie)\n",
    "    num = X * fracao\n",
    "    \n",
    "    return num"
   ]
  },
  {
   "cell_type": "markdown",
   "id": "77374a7f-b41c-44a0-aaeb-5c48754edc1e",
   "metadata": {},
   "source": [
    "Vamos aplicar essa normalização e refazer o gráfico:"
   ]
  },
  {
   "cell_type": "code",
   "execution_count": 19,
   "id": "5ab01245-fe88-4170-88e5-d4b6a269bf7a",
   "metadata": {},
   "outputs": [
    {
     "data": {
      "image/png": "[encoded data removed]",
      "text/plain": [
       "<Figure size 640x480 with 1 Axes>"
      ]
     },
     "metadata": {},
     "output_type": "display_data"
    }
   ],
   "source": [
    "a_cada = 10000\n",
    "for distrito in distritos_selecionados:\n",
    "    num_a_cada_X(obitos_por_distrito_df.set_index('Idade Detalhada')[distrito], a_cada).plot(label=distrito, alpha=0.7)\n",
    "pl.ylabel('Número de óbitos no distrito a cada {}'.format(a_cada))\n",
    "pl.legend()\n",
    "pl.show()"
   ]
  },
  {
   "cell_type": "markdown",
   "id": "f1688d35-2837-41ce-bb27-05ab893f5a71",
   "metadata": {},
   "source": [
    "Caramba! As distribuições dos distritos Cidade Tiradentes e Anhanguera, ambos da periferia, são bem parecidas entre si, mesmo estando em lados opostos da cidade! \n",
    "E as distribuições dos distritos Alto de Pinheiros e Vila Mariana, ambos de classe média e alta, também. \n",
    "Isso indica que as causas dos óbitos nesses distritos não são particularidades suas ou de suas localizações geográficas, mas sim algo em comum entre eles. \n",
    "Além disso, a diferença entre as distribuições das periferias e dos bairros ricos é clara. \n",
    "Vamos analisar esse gráfico em detalhe."
   ]
  },
  {
   "cell_type": "markdown",
   "id": "790f72ee-790d-40e2-ad4f-64f6747e9f16",
   "metadata": {},
   "source": [
    "### 2.4. Análise da distribuição normalizada"
   ]
  },
  {
   "cell_type": "markdown",
   "id": "97986310-1a07-4d75-a28f-975f626eb935",
   "metadata": {},
   "source": [
    "#### 2.4.1. Ruído (flutuação estatística)"
   ]
  },
  {
   "cell_type": "markdown",
   "id": "7e507eee-0760-48a9-908b-b4b5bfa301e7",
   "metadata": {},
   "source": [
    "Veja como todas as linhas sobem e descem rapidamente quando passamos de uma idade (em anos) para uma idade vizinha. \n",
    "Em outras palavras, elas apresentam variações (chamadas de _flutuações_) bruscas.\n",
    "\n",
    "Por exemplo: o número de óbitos a cada 10.000 para o distrito de Anhanguera sai de 102 na idade de 45 anos, sobe a \n",
    "174 para 46, volta a 115 óbitos para 48 anos e sobe de novo para 170 em 49:"
   ]
  },
  {
   "cell_type": "code",
   "execution_count": 20,
   "id": "c76060f3-f5ee-4cb5-b521-2c0a309a8d2f",
   "metadata": {},
   "outputs": [
    {
     "data": {
      "text/plain": [
       "Idade Detalhada\n",
       "45    101.910828\n",
       "46    174.097665\n",
       "47    148.619958\n",
       "48    114.649682\n",
       "49    169.851380\n",
       "Name: Anhanguera, dtype: float64"
      ]
     },
     "execution_count": 20,
     "metadata": {},
     "output_type": "execute_result"
    }
   ],
   "source": [
    "# Número de óbitos por idade a cada 10.000: \n",
    "num_a_cada_X(obitos_por_distrito_df.set_index('Idade Detalhada')['Anhanguera'], a_cada).loc[45:49]"
   ]
  },
  {
   "cell_type": "markdown",
   "id": "3c961465-f50e-40a9-9c27-8371c6723dc3",
   "metadata": {},
   "source": [
    "Será que conseguimos identificar algum significado nessas variações? Será que esse é um padrão que se repete em outros distritos ou que se repetiria em outros períodos? A resposta é _não_. Seria muito estranho se os óbitos nas periferias fossem mais comuns para pessoas com exatamente 46 anos do que para pessoas com 45 e com 48 anos. \n",
    "\n",
    "Na verdade, essas flutuações são causadas por uma combinação grande de detalhes e particularidades dos acontecimentos dessa época e local. São coisas que não se repetem, não seguem um padrão. Logo, as chamamos de _flutuações aleatórias_ ou de _flutuações estatísticas_. Você vai encontrar essas flutuações frequentemente em análises de dados. Não perca tempo tentando encontrar algum significado nelas.\n",
    "\n",
    "**Dica:** note que essas flutuações são mais amplas (as linhas sobem e descem mais) para os distritos com menos residentes: Anhanguera e Alto de Pinheiros. Isso acontece porque um óbito a mais dentre 10 corresponde a uma variação de 10%, enquanto que um óbito a mais em 50 corresponde a uma variação de 2%.  "
   ]
  },
  {
   "cell_type": "markdown",
   "id": "073c92e9-92fe-4cf1-befe-16d95eb8dd3a",
   "metadata": {},
   "source": [
    "#### 2.4.2. Mortalidade infantil"
   ]
  },
  {
   "cell_type": "markdown",
   "id": "afcafda6-8821-4964-9442-60c3da60df48",
   "metadata": {},
   "source": [
    "Ao contrário das flutuações estatísticas, que são diferentes para cada distrito, vemos que o número de óbitos de pessoas com menos de um ano é sempre maior do que os números para as idades seguintes, \n",
    "para todos os distritos. Esse número sistematicamente maior tem significado e está associado à _[mortalidade infantil](https://brasilescola.uol.com.br/o-que-e/geografia/o-que-e-mortalidade-infantil.htm)_, \n",
    "que é um indicador social representado pelo número de crianças que morreram antes de completar um ano de vida a cada mil crianças nascidas vivas.\n",
    "\n",
    "O gráfico mostra que a quantidade de óbitos de bebês a cada 10.000 é muito maior nas periferias que nos bairros ricos. No entantao, para calcular a chance de uma pessoa morrer antes de completar um ano precisamos normalizar essa quantidade pelo número de nasscimentos."
   ]
  },
  {
   "cell_type": "markdown",
   "id": "61c47c60-303e-4b30-992b-55920cdf1457",
   "metadata": {},
   "source": [
    "#### 2.4.3. Violência"
   ]
  },
  {
   "cell_type": "markdown",
   "id": "a4c17f24-5473-4cec-a593-7c86302baba8",
   "metadata": {},
   "source": [
    "Outra característica comum aos bairros periféricos é um súbito aumento de mortes na entrada da adolescência, algo que não é observado nos bairros ricos. \n",
    "Essas mortes são causadas principalmente por homicídio e atingem jovens do sexo masculino, mais comumente pardos e pretos. Isso pode ser constatado se filtrarmos \n",
    "os dados do DataSUS por causa de morte e por sexo e cor/raça. "
   ]
  },
  {
   "cell_type": "markdown",
   "id": "8d6b10ec-5930-4359-962e-02888a9388dc",
   "metadata": {},
   "source": [
    "#### 2.4.4. Falta de acesso à saúde"
   ]
  },
  {
   "cell_type": "markdown",
   "id": "25d4b4a9-b4da-4fd1-8d82-11da3e155278",
   "metadata": {},
   "source": [
    "Tirando esse aumento súbito de óbitos na adolescência, resultado da violência, os demais óbitos tem como causas problemas de saúde.\n",
    "Outro padrão muito evidente nas distribuições é que, nos bairros ricos, grande parte dos óbitos acontecem com mais de 80 anos. \n",
    "Enquanto isso, nas periferias, os óbitos são mais comuns entre 40 e 80 anos.\n",
    "\n",
    "Note que as mortes prematuras nos bairros periféricos não são consequência de falta de conhecimento ou de capacidade médica e técnica. \n",
    "O fato de existirem outros grupos sociais que tipicamente morrem com idades mais altas mostra isso. Basta que haja interesse em prover os métodos de prevenção e tratamento conhecidos para todos. "
   ]
  },
  {
   "cell_type": "markdown",
   "id": "d8762ebb-1d60-40af-82ea-de34039ac1fd",
   "metadata": {},
   "source": [
    "#### 2.4.5. Análise global da distribuição"
   ]
  },
  {
   "cell_type": "markdown",
   "id": "cf30d2be-8713-4636-9d43-d9cbe00b7918",
   "metadata": {},
   "source": [
    "Note como a mortalidade infantil, por violência e por falta de acesso à prevenção e tratamento em saúde andam juntas, isto é: distritos onde há mais violência também há mais mortalidade infantil e mortes precoces por problemas de saúde. Esse fato não é óbvio: por que locais onde há mais violência também há mais problemas de saúde? Esses não são problemas sociais separados, de naturezas diferentes? Nesse caso, não deveríamos esperar que alguns distritos tivessem mortalidade infantil alta mas violência baixa, outros ao contrário, e assim por diante? Por que essa \"mania\" desses problemas andarem juntos?\n",
    "\n",
    "O fato dos problemas sociais andarem juntos indica que eles possuem uma causa comum. Se existe um causa comum, faria sentido buscar reduzir a violência exclusivamente por meio de mais repressão policial, por exemplo? Essa estratégia não estaria deixando a causa da violência de fora?"
   ]
  },
  {
   "cell_type": "markdown",
   "id": "4775c36f-72ba-4952-aa5a-6ba0d42ae48e",
   "metadata": {},
   "source": [
    "## 3. Cálculo da Expectativa de vida"
   ]
  },
  {
   "cell_type": "markdown",
   "id": "0a1ecafe-fd23-4091-bf79-3c9b1c13b080",
   "metadata": {},
   "source": [
    "Vamos calcular a idade média de óbito nos diferentes distritos de São Paulo.\n",
    "\n",
    "Aqui, vamos calcular apenas a _medida de tendência central_ da idade das pessoas ao falecerem; mais especificamente, sua média. A principal consequência dessa escolha é que a comparação entre distritos diferentes desconsidera as próprias diferenças de composição demográficas na comparação das idades médias de óbito. Um distrito em que vivam mais idosos é esperado que tenha uma idade média de óbito mais alta, mesmo que tenha condições de vida semelhantes a outros. No entanto, a própria composição demográfica é uma consequência das desigualdades sociais. Desta forma, não é incorreto comparar as diferenças de idades médias de óbitos\n",
    "\n",
    "Calcular a [expectativa de vida ao nascer](https://www.infoescola.com/demografia/expectativa-de-vida/) é algo mais complexo e exige que tenhamos as populações dos respectivos distritos para cada idade. \n",
    "  \n",
    "Para conhecer mais sobre medidas de tendência central (moda, mediana e média), veja o tutorial [15_medidas-de-tendencia-central.ipynb](15_medidas-de-tendencia-central.ipynb).\n",
    "\n",
    "Para cada distrito, o cálculo da idade média ao falecer pode ser feito:\n",
    "1. pegando cada idade (em anos);\n",
    "2. multiplicando-a pelo número de pessoas que faleceram com aquela idade;\n",
    "3. somando os resultados dessa multiplicação;\n",
    "4. dividindo essa soma pelo número total de pessoas no distrito.\n",
    "\n",
    "O código abaixo faz isso de uma vez só para todos os distritos:"
   ]
  },
  {
   "cell_type": "code",
   "execution_count": 22,
   "id": "47554d39-6f8c-4723-8231-3eafd8f53427",
   "metadata": {},
   "outputs": [],
   "source": [
    "# Cria uma tabela sem a coluna da idade (isto é, só com o número de óbitos por distrito):\n",
    "soh_obitos_df = obitos_por_distrito_df.iloc[:, 1:]\n",
    "# Calcula o total de pessoas que faleceram em cada distrito:\n",
    "total_pessoas = soh_obitos_df.sum()\n",
    "# Cálcula a expectativa de vida:\n",
    "exp_vida = soh_obitos_df.multiply(obitos_por_distrito_df['Idade Detalhada'], axis=0).sum() / total_pessoas"
   ]
  },
  {
   "cell_type": "markdown",
   "id": "f5ce6ae6-3ad9-4eac-9318-34746087b6e0",
   "metadata": {},
   "source": [
    "Na última linha, fazemos o uso do método `.multiply()`. Esse método é útil pois nos permite multiplicar todas as colunas do DataFrame `soh_obitos_df` pela coluna de idades. \n",
    "O parâmetro `axis=0` informa ao método que cada valor da série de idades deve ser multiplicado por uma linha do DataFrame `soh_obitos_df`. \n",
    "\n",
    "Após a multiplicação, o resultado é somado dentro de cada distrito, e depois dividido pelo total de pessoas que faleceram em cada distrito. \n",
    "Para relembrar a explicação do método `.sum()`, veja a seçao sobre o [total de óbitos por distrito](#total-obitos).\n",
    "\n",
    "Abaixo apresentamos os distritos ordenados por expectativa de vida:"
   ]
  },
  {
   "cell_type": "code",
   "execution_count": 23,
   "id": "0a93ca50-5388-412e-927b-8a8f3e1f374f",
   "metadata": {},
   "outputs": [
    {
     "data": {
      "text/plain": [
       "Cidade Tiradentes    55.151054\n",
       "Jardim Ângela        55.486721\n",
       "Anhanguera           55.576645\n",
       "Iguatemi             56.504711\n",
       "Grajaú               56.624504\n",
       "                       ...    \n",
       "Pinheiros            77.952409\n",
       "Consolação           78.064889\n",
       "Moema                78.380097\n",
       "Alto de Pinheiros    78.576560\n",
       "Jardim Paulista      78.935946\n",
       "Length: 96, dtype: float64"
      ]
     },
     "execution_count": 23,
     "metadata": {},
     "output_type": "execute_result"
    }
   ],
   "source": [
    "# Ranking da expectativa de vida dos distritos de Sâo Paulo:\n",
    "ranking_exp_vida = exp_vida.sort_values()\n",
    "ranking_exp_vida"
   ]
  },
  {
   "cell_type": "markdown",
   "id": "e68a6295-3a72-47f4-8f4c-1669b100edf2",
   "metadata": {},
   "source": [
    "Vemos que a diferença na idade média de óbito entre os distritos chega a quase 24 anos."
   ]
  }
 ],
 "metadata": {
  "kernelspec": {
   "display_name": "Python 3 (ipykernel)",
   "language": "python",
   "name": "python3"
  },
  "language_info": {
   "codemirror_mode": {
    "name": "ipython",
    "version": 3
   },
   "file_extension": ".py",
   "mimetype": "text/x-python",
   "name": "python",
   "nbconvert_exporter": "python",
   "pygments_lexer": "ipython3",
   "version": "3.10.9"
  }
 },
 "nbformat": 4,
 "nbformat_minor": 5
}
